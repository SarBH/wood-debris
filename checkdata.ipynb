{
 "cells": [
  {
   "cell_type": "code",
   "execution_count": 20,
   "metadata": {},
   "outputs": [],
   "source": [
    "import cv2"
   ]
  },
  {
   "cell_type": "code",
   "execution_count": 21,
   "metadata": {},
   "outputs": [],
   "source": [
    "mask = cv2.imread(\"/home/sarita/Documents/wood-debris/data/train/masks/DSC01669_r.JPG.png\")"
   ]
  },
  {
   "cell_type": "code",
   "execution_count": 26,
   "metadata": {},
   "outputs": [],
   "source": [
    "image=cv2.imread(\"/home/sarita/Documents/wood-debris/dataset1/annotations_prepped_train/0001TP_006720.png\")"
   ]
  },
  {
   "cell_type": "code",
   "execution_count": 27,
   "metadata": {},
   "outputs": [
    {
     "name": "stdout",
     "output_type": "stream",
     "text": "(360, 480, 3)\n"
    }
   ],
   "source": [
    "print(image.shape)"
   ]
  },
  {
   "cell_type": "code",
   "execution_count": 23,
   "metadata": {},
   "outputs": [
    {
     "name": "stdout",
     "output_type": "stream",
     "text": "True\n"
    }
   ],
   "source": [
    "print((mask[:,:,2] == mask[:,:,1]).all() == True)"
   ]
  },
  {
   "cell_type": "code",
   "execution_count": null,
   "metadata": {},
   "outputs": [],
   "source": []
  },
  {
   "cell_type": "code",
   "execution_count": 30,
   "metadata": {},
   "outputs": [
    {
     "name": "stdout",
     "output_type": "stream",
     "text": "[[[1 1 1]\n  [1 1 1]\n  [5 5 5]\n  ...\n  [1 1 1]\n  [1 1 1]\n  [1 1 1]]\n\n [[1 1 1]\n  [1 1 1]\n  [5 5 5]\n  ...\n  [1 1 1]\n  [1 1 1]\n  [1 1 1]]\n\n [[1 1 1]\n  [1 1 1]\n  [5 5 5]\n  ...\n  [1 1 1]\n  [1 1 1]\n  [1 1 1]]\n\n ...\n\n [[1 1 1]\n  [1 1 1]\n  [1 1 1]\n  ...\n  [1 1 1]\n  [1 1 1]\n  [1 1 1]]\n\n [[1 1 1]\n  [1 1 1]\n  [1 1 1]\n  ...\n  [1 1 1]\n  [1 1 1]\n  [1 1 1]]\n\n [[1 1 1]\n  [1 1 1]\n  [1 1 1]\n  ...\n  [1 1 1]\n  [1 1 1]\n  [1 1 1]]]\n"
    }
   ],
   "source": [
    "print(mask)"
   ]
  },
  {
   "cell_type": "code",
   "execution_count": 31,
   "metadata": {},
   "outputs": [
    {
     "name": "stdout",
     "output_type": "stream",
     "text": "[[[ 1  1  1]\n  [ 1  1  1]\n  [ 1  1  1]\n  ...\n  [ 1  1  1]\n  [ 1  1  1]\n  [ 1  1  1]]\n\n [[ 1  1  1]\n  [ 1  1  1]\n  [ 1  1  1]\n  ...\n  [ 1  1  1]\n  [ 1  1  1]\n  [ 1  1  1]]\n\n [[ 1  1  1]\n  [ 1  1  1]\n  [ 1  1  1]\n  ...\n  [ 1  1  1]\n  [ 1  1  1]\n  [ 1  1  1]]\n\n ...\n\n [[ 4  4  4]\n  [ 4  4  4]\n  [ 4  4  4]\n  ...\n  [11 11 11]\n  [11 11 11]\n  [11 11 11]]\n\n [[ 4  4  4]\n  [ 4  4  4]\n  [ 4  4  4]\n  ...\n  [11 11 11]\n  [11 11 11]\n  [11 11 11]]\n\n [[ 4  4  4]\n  [ 4  4  4]\n  [ 4  4  4]\n  ...\n  [11 11 11]\n  [11 11 11]\n  [11 11 11]]]\n"
    }
   ],
   "source": [
    "print(image)"
   ]
  },
  {
   "cell_type": "code",
   "execution_count": null,
   "metadata": {},
   "outputs": [],
   "source": []
  }
 ],
 "metadata": {
  "kernelspec": {
   "display_name": "Python 3",
   "language": "python",
   "name": "python3"
  },
  "language_info": {
   "codemirror_mode": {
    "name": "ipython",
    "version": 3
   },
   "file_extension": ".py",
   "mimetype": "text/x-python",
   "name": "python",
   "nbconvert_exporter": "python",
   "pygments_lexer": "ipython3",
   "version": "3.6.9"
  }
 },
 "nbformat": 4,
 "nbformat_minor": 2
}